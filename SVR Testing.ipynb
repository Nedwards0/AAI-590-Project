{
 "cells": [
  {
   "cell_type": "code",
   "execution_count": 1,
   "id": "e685ee57-7340-4596-84d1-e86439ae683c",
   "metadata": {
    "tags": []
   },
   "outputs": [],
   "source": [
    "import sys\n",
    "import pandas as pd"
   ]
  },
  {
   "cell_type": "code",
   "execution_count": 2,
   "id": "2a4ce53d-9273-44a6-a42f-d4e6274f0102",
   "metadata": {
    "tags": []
   },
   "outputs": [],
   "source": [
    "df = pd.read_csv('Output.csv')"
   ]
  },
  {
   "cell_type": "code",
   "execution_count": 3,
   "id": "764f1a36-a584-4059-b748-ff355693ee2e",
   "metadata": {},
   "outputs": [],
   "source": [
    "arr = df.columns"
   ]
  },
  {
   "cell_type": "code",
   "execution_count": 4,
   "id": "ae139cbc-397f-4780-aec1-edb84234a500",
   "metadata": {
    "tags": []
   },
   "outputs": [],
   "source": [
    "name_column = []\n",
    "for i in df.columns:\n",
    "    if(\"Name\" in i):\n",
    "        name_column.append(i)"
   ]
  },
  {
   "cell_type": "code",
   "execution_count": 5,
   "id": "89b4fbea-09af-4236-bb52-8cea0d70a36d",
   "metadata": {
    "tags": []
   },
   "outputs": [],
   "source": [
    "final_columns = []\n",
    "most_traded = [\"NVDA\", \"AMZN\", \"AAPL\", \"TSLA\", \"MSFT\", \"META\", \"AMD\", \"INTC\", \"AVGO\", \"SMCI\", \"JPM\", \"MU\"]\n",
    "for i in most_traded:\n",
    "    if((\"Name_\" + i) in name_column):\n",
    "        final_columns.append(\"Name_\" + i)\n",
    "    "
   ]
  },
  {
   "cell_type": "code",
   "execution_count": 6,
   "id": "3fdf6c45-382a-4b07-aa86-570c1a3baa89",
   "metadata": {
    "tags": []
   },
   "outputs": [
    {
     "data": {
      "text/plain": [
       "['Name_NVDA',\n",
       " 'Name_AMZN',\n",
       " 'Name_AAPL',\n",
       " 'Name_MSFT',\n",
       " 'Name_AMD',\n",
       " 'Name_INTC',\n",
       " 'Name_AVGO',\n",
       " 'Name_JPM',\n",
       " 'Name_MU']"
      ]
     },
     "execution_count": 6,
     "metadata": {},
     "output_type": "execute_result"
    }
   ],
   "source": [
    "final_columns"
   ]
  },
  {
   "cell_type": "code",
   "execution_count": 7,
   "id": "85a32555-2287-4909-b1fa-47155263df80",
   "metadata": {
    "tags": []
   },
   "outputs": [
    {
     "data": {
      "text/plain": [
       "['Name_NVDA', 'Name_AMZN', 'Name_AAPL', 'Name_MSFT', 'Name_AMD']"
      ]
     },
     "execution_count": 7,
     "metadata": {},
     "output_type": "execute_result"
    }
   ],
   "source": [
    "final_columns[:5]"
   ]
  },
  {
   "cell_type": "markdown",
   "id": "f4f7f891-814b-4ff5-8b20-7485b64c21b0",
   "metadata": {},
   "source": [
    "# Stacking For time series"
   ]
  },
  {
   "cell_type": "code",
   "execution_count": 8,
   "id": "d8d1b51c-32f3-4322-92e8-5a8c6fb3c4b6",
   "metadata": {
    "tags": []
   },
   "outputs": [],
   "source": [
    "import numpy as np\n",
    "def create_stack(X, y, time_steps=50):\n",
    "    Xs, ys = [], []\n",
    "    for i in range(len(X) - time_steps):\n",
    "        v = X[i:i + time_steps]\n",
    "        Xs.append(v)\n",
    "        ys.append(y.iloc[i + time_steps].close)\n",
    "    return Xs, ys\n"
   ]
  },
  {
   "cell_type": "code",
   "execution_count": 9,
   "id": "5bea8996-d1d0-4a3f-85fa-78c6f581252b",
   "metadata": {
    "tags": []
   },
   "outputs": [],
   "source": [
    "df = df.astype(float)"
   ]
  },
  {
   "cell_type": "code",
   "execution_count": 10,
   "id": "fea073da-bfe5-4da5-a4b0-305e4a128e8c",
   "metadata": {
    "tags": []
   },
   "outputs": [],
   "source": [
    "df = df[[\"close\", \"open\", \"volume\", \"unix_time\", ] + final_columns]"
   ]
  },
  {
   "cell_type": "code",
   "execution_count": 263,
   "id": "448c66ab-0af0-4fec-a66e-70cf72a9802d",
   "metadata": {
    "tags": []
   },
   "outputs": [
    {
     "name": "stderr",
     "output_type": "stream",
     "text": [
      "100%|██████████| 9/9 [00:01<00:00,  7.83it/s]\n"
     ]
    }
   ],
   "source": [
    "from tqdm import tqdm\n",
    "X,y = [], []\n",
    "count = 0\n",
    "for i in tqdm(final_columns):\n",
    "    df_slice = df[df[i] == 1]\n",
    "    df_slice.reset_index(inplace = True)\n",
    "    output = create_stack(df_slice,df_slice)\n",
    "    for i in output[0]:\n",
    "        X.append(i)\n",
    "    for i in output[1]:\n",
    "        y.append(i)\n",
    "    if(count == 10):\n",
    "        break\n",
    "    count = count + 1\n",
    "    "
   ]
  },
  {
   "cell_type": "markdown",
   "id": "5e246f7b-e3fe-4206-8b95-805f54dddc1e",
   "metadata": {},
   "source": [
    "# Model Creation"
   ]
  },
  {
   "cell_type": "code",
   "execution_count": 264,
   "id": "316e61d0-a64e-49b9-9322-91fabfeb7f50",
   "metadata": {
    "tags": []
   },
   "outputs": [],
   "source": [
    "assert(len(X) == len(y))"
   ]
  },
  {
   "cell_type": "code",
   "execution_count": 265,
   "id": "2f412513-52ad-4ce7-a595-35178a6cdf3e",
   "metadata": {
    "tags": []
   },
   "outputs": [],
   "source": [
    "from sklearn.model_selection import train_test_split"
   ]
  },
  {
   "cell_type": "code",
   "execution_count": 266,
   "id": "64a5198b-57e9-409e-b638-7766266d6ed5",
   "metadata": {
    "tags": []
   },
   "outputs": [],
   "source": [
    "X_train =  X[:9000]\n",
    "y_train = y[:9000]\n",
    "X_test = X[9000:]\n",
    "y_test = y[9000:]"
   ]
  },
  {
   "cell_type": "code",
   "execution_count": 267,
   "id": "8d4deefe-e83d-4f17-a658-a45fb899e3e8",
   "metadata": {
    "tags": []
   },
   "outputs": [
    {
     "name": "stdout",
     "output_type": "stream",
     "text": [
      "Length of train 9000\n",
      "Length of test 1881\n"
     ]
    }
   ],
   "source": [
    "assert(len(X_train) == len(y_train))\n",
    "assert(len(X_test) == len(y_test))\n",
    "print(\"Length of train\",len(X_train))\n",
    "print(\"Length of test\",len(X_test))"
   ]
  },
  {
   "cell_type": "code",
   "execution_count": 268,
   "id": "b08674db-8dc0-4c87-966f-bc8da8e5910e",
   "metadata": {
    "tags": []
   },
   "outputs": [],
   "source": [
    "X_train = np.array(X_train)\n",
    "X_test = np.array(X_test)\n",
    "y_train = np.array(y_train)\n",
    "y_test = np.array(y_test)"
   ]
  },
  {
   "cell_type": "code",
   "execution_count": 269,
   "id": "55b19308-bcc2-464a-a10c-318da2e59ddf",
   "metadata": {},
   "outputs": [],
   "source": [
    "from sklearn.svm import SVR\n",
    "from sklearn.preprocessing import MinMaxScaler\n",
    "from sklearn.metrics import mean_squared_error\n",
    "\n",
    "model = SVR(gamma=0.5)"
   ]
  },
  {
   "cell_type": "markdown",
   "id": "9014f0ae-a253-400e-b680-62a31cd0cea3",
   "metadata": {},
   "source": [
    "# Training"
   ]
  },
  {
   "cell_type": "code",
   "execution_count": 237,
   "id": "7d029e83-b044-4cfb-b12c-aae53e9bf45a",
   "metadata": {
    "tags": []
   },
   "outputs": [
    {
     "data": {
      "text/html": [
       "<style>#sk-container-id-15 {color: black;background-color: white;}#sk-container-id-15 pre{padding: 0;}#sk-container-id-15 div.sk-toggleable {background-color: white;}#sk-container-id-15 label.sk-toggleable__label {cursor: pointer;display: block;width: 100%;margin-bottom: 0;padding: 0.3em;box-sizing: border-box;text-align: center;}#sk-container-id-15 label.sk-toggleable__label-arrow:before {content: \"▸\";float: left;margin-right: 0.25em;color: #696969;}#sk-container-id-15 label.sk-toggleable__label-arrow:hover:before {color: black;}#sk-container-id-15 div.sk-estimator:hover label.sk-toggleable__label-arrow:before {color: black;}#sk-container-id-15 div.sk-toggleable__content {max-height: 0;max-width: 0;overflow: hidden;text-align: left;background-color: #f0f8ff;}#sk-container-id-15 div.sk-toggleable__content pre {margin: 0.2em;color: black;border-radius: 0.25em;background-color: #f0f8ff;}#sk-container-id-15 input.sk-toggleable__control:checked~div.sk-toggleable__content {max-height: 200px;max-width: 100%;overflow: auto;}#sk-container-id-15 input.sk-toggleable__control:checked~label.sk-toggleable__label-arrow:before {content: \"▾\";}#sk-container-id-15 div.sk-estimator input.sk-toggleable__control:checked~label.sk-toggleable__label {background-color: #d4ebff;}#sk-container-id-15 div.sk-label input.sk-toggleable__control:checked~label.sk-toggleable__label {background-color: #d4ebff;}#sk-container-id-15 input.sk-hidden--visually {border: 0;clip: rect(1px 1px 1px 1px);clip: rect(1px, 1px, 1px, 1px);height: 1px;margin: -1px;overflow: hidden;padding: 0;position: absolute;width: 1px;}#sk-container-id-15 div.sk-estimator {font-family: monospace;background-color: #f0f8ff;border: 1px dotted black;border-radius: 0.25em;box-sizing: border-box;margin-bottom: 0.5em;}#sk-container-id-15 div.sk-estimator:hover {background-color: #d4ebff;}#sk-container-id-15 div.sk-parallel-item::after {content: \"\";width: 100%;border-bottom: 1px solid gray;flex-grow: 1;}#sk-container-id-15 div.sk-label:hover label.sk-toggleable__label {background-color: #d4ebff;}#sk-container-id-15 div.sk-serial::before {content: \"\";position: absolute;border-left: 1px solid gray;box-sizing: border-box;top: 0;bottom: 0;left: 50%;z-index: 0;}#sk-container-id-15 div.sk-serial {display: flex;flex-direction: column;align-items: center;background-color: white;padding-right: 0.2em;padding-left: 0.2em;position: relative;}#sk-container-id-15 div.sk-item {position: relative;z-index: 1;}#sk-container-id-15 div.sk-parallel {display: flex;align-items: stretch;justify-content: center;background-color: white;position: relative;}#sk-container-id-15 div.sk-item::before, #sk-container-id-15 div.sk-parallel-item::before {content: \"\";position: absolute;border-left: 1px solid gray;box-sizing: border-box;top: 0;bottom: 0;left: 50%;z-index: -1;}#sk-container-id-15 div.sk-parallel-item {display: flex;flex-direction: column;z-index: 1;position: relative;background-color: white;}#sk-container-id-15 div.sk-parallel-item:first-child::after {align-self: flex-end;width: 50%;}#sk-container-id-15 div.sk-parallel-item:last-child::after {align-self: flex-start;width: 50%;}#sk-container-id-15 div.sk-parallel-item:only-child::after {width: 0;}#sk-container-id-15 div.sk-dashed-wrapped {border: 1px dashed gray;margin: 0 0.4em 0.5em 0.4em;box-sizing: border-box;padding-bottom: 0.4em;background-color: white;}#sk-container-id-15 div.sk-label label {font-family: monospace;font-weight: bold;display: inline-block;line-height: 1.2em;}#sk-container-id-15 div.sk-label-container {text-align: center;}#sk-container-id-15 div.sk-container {/* jupyter's `normalize.less` sets `[hidden] { display: none; }` but bootstrap.min.css set `[hidden] { display: none !important; }` so we also need the `!important` here to be able to override the default hidden behavior on the sphinx rendered scikit-learn.org. See: https://github.com/scikit-learn/scikit-learn/issues/21755 */display: inline-block !important;position: relative;}#sk-container-id-15 div.sk-text-repr-fallback {display: none;}</style><div id=\"sk-container-id-15\" class=\"sk-top-container\"><div class=\"sk-text-repr-fallback\"><pre>SVR(gamma=0.5)</pre><b>In a Jupyter environment, please rerun this cell to show the HTML representation or trust the notebook. <br />On GitHub, the HTML representation is unable to render, please try loading this page with nbviewer.org.</b></div><div class=\"sk-container\" hidden><div class=\"sk-item\"><div class=\"sk-estimator sk-toggleable\"><input class=\"sk-toggleable__control sk-hidden--visually\" id=\"sk-estimator-id-15\" type=\"checkbox\" checked><label for=\"sk-estimator-id-15\" class=\"sk-toggleable__label sk-toggleable__label-arrow\">SVR</label><div class=\"sk-toggleable__content\"><pre>SVR(gamma=0.5)</pre></div></div></div></div></div>"
      ],
      "text/plain": [
       "SVR(gamma=0.5)"
      ]
     },
     "execution_count": 237,
     "metadata": {},
     "output_type": "execute_result"
    }
   ],
   "source": [
    "model.fit(X_train.reshape(X_train.shape[0], -1), y_train)"
   ]
  },
  {
   "cell_type": "markdown",
   "id": "cf0eb61c-8ab1-4e07-b924-3d3694de1664",
   "metadata": {},
   "source": [
    "# Metrics"
   ]
  },
  {
   "cell_type": "code",
   "execution_count": 238,
   "id": "c3886a9a-aa02-4cd7-b6ed-9843e63a5fc8",
   "metadata": {
    "tags": []
   },
   "outputs": [],
   "source": [
    "pred = model.predict(X_test.reshape(X_test.shape[0], -1))"
   ]
  },
  {
   "cell_type": "code",
   "execution_count": 239,
   "id": "d83698d1-8c05-4dfa-98e7-115ed23ee692",
   "metadata": {
    "tags": []
   },
   "outputs": [],
   "source": [
    "from sklearn.metrics import r2_score\n",
    "from sklearn.metrics import mean_squared_error\n",
    "\n",
    "\n",
    "def metrics(Y_pred, Y_true):\n",
    "    print(\"r2 score is : \",r2_score(Y_true,Y_pred))\n",
    "    \n",
    "    \n"
   ]
  },
  {
   "cell_type": "code",
   "execution_count": 240,
   "id": "12184266-1cd0-4ddc-b991-09fcfef19f2b",
   "metadata": {
    "tags": []
   },
   "outputs": [
    {
     "name": "stdout",
     "output_type": "stream",
     "text": [
      "r2 score is :  -0.23660720907726307\n"
     ]
    }
   ],
   "source": [
    "metrics(pred, y_test)"
   ]
  },
  {
   "cell_type": "markdown",
   "id": "28275a62-740d-457b-8aa3-feb806b4229f",
   "metadata": {},
   "source": [
    "Since the data is not being normalized this result is hard to interpet without further analysis."
   ]
  },
  {
   "cell_type": "code",
   "execution_count": 241,
   "id": "0f015e57-31cc-4287-b191-7d0da4fca9e0",
   "metadata": {
    "tags": []
   },
   "outputs": [
    {
     "data": {
      "text/plain": [
       "119.51640197592133"
      ]
     },
     "execution_count": 241,
     "metadata": {},
     "output_type": "execute_result"
    }
   ],
   "source": [
    "from statistics import mean \n",
    "\n",
    "mean(y)"
   ]
  },
  {
   "cell_type": "code",
   "execution_count": null,
   "id": "38c53c5a-50f6-476e-9595-85459597f06c",
   "metadata": {},
   "outputs": [],
   "source": []
  }
 ],
 "metadata": {
  "kernelspec": {
   "display_name": "Python 3 (ipykernel)",
   "language": "python",
   "name": "python3"
  },
  "language_info": {
   "codemirror_mode": {
    "name": "ipython",
    "version": 3
   },
   "file_extension": ".py",
   "mimetype": "text/x-python",
   "name": "python",
   "nbconvert_exporter": "python",
   "pygments_lexer": "ipython3",
   "version": "3.11.5"
  }
 },
 "nbformat": 4,
 "nbformat_minor": 5
}

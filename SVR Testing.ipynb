{
 "cells": [
  {
   "cell_type": "code",
   "execution_count": 67,
   "id": "e685ee57-7340-4596-84d1-e86439ae683c",
   "metadata": {
    "tags": []
   },
   "outputs": [],
   "source": [
    "import sys\n",
    "import pandas as pd"
   ]
  },
  {
   "cell_type": "code",
   "execution_count": 68,
   "id": "2a4ce53d-9273-44a6-a42f-d4e6274f0102",
   "metadata": {
    "tags": []
   },
   "outputs": [],
   "source": [
    "df = pd.read_csv('Output.csv')"
   ]
  },
  {
   "cell_type": "code",
   "execution_count": 69,
   "id": "764f1a36-a584-4059-b748-ff355693ee2e",
   "metadata": {},
   "outputs": [],
   "source": [
    "arr = df.columns"
   ]
  },
  {
   "cell_type": "code",
   "execution_count": 70,
   "id": "ae139cbc-397f-4780-aec1-edb84234a500",
   "metadata": {
    "tags": []
   },
   "outputs": [],
   "source": [
    "name_column = []\n",
    "for i in df.columns:\n",
    "    if(\"Name\" in i):\n",
    "        name_column.append(i)"
   ]
  },
  {
   "cell_type": "code",
   "execution_count": 71,
   "id": "85a32555-2287-4909-b1fa-47155263df80",
   "metadata": {
    "tags": []
   },
   "outputs": [
    {
     "data": {
      "text/plain": [
       "['Name_A', 'Name_AAL', 'Name_AAP', 'Name_AAPL', 'Name_ABBV']"
      ]
     },
     "execution_count": 71,
     "metadata": {},
     "output_type": "execute_result"
    }
   ],
   "source": [
    "name_column[:5]"
   ]
  },
  {
   "cell_type": "markdown",
   "id": "f4f7f891-814b-4ff5-8b20-7485b64c21b0",
   "metadata": {},
   "source": [
    "# Stacking For time series"
   ]
  },
  {
   "cell_type": "code",
   "execution_count": 72,
   "id": "d8d1b51c-32f3-4322-92e8-5a8c6fb3c4b6",
   "metadata": {
    "tags": []
   },
   "outputs": [],
   "source": [
    "import numpy as np\n",
    "def create_stack(X, y, time_steps=30):\n",
    "    Xs, ys = [], []\n",
    "    for i in range(len(X) - time_steps):\n",
    "        v = X[i:i + time_steps]\n",
    "        Xs.append(v)\n",
    "        ys.append(y.iloc[i + time_steps])\n",
    "    return Xs, ys\n"
   ]
  },
  {
   "cell_type": "code",
   "execution_count": 73,
   "id": "5bea8996-d1d0-4a3f-85fa-78c6f581252b",
   "metadata": {
    "tags": []
   },
   "outputs": [],
   "source": [
    "df = df.astype(float)"
   ]
  },
  {
   "cell_type": "code",
   "execution_count": null,
   "id": "448c66ab-0af0-4fec-a66e-70cf72a9802d",
   "metadata": {
    "tags": []
   },
   "outputs": [
    {
     "name": "stderr",
     "output_type": "stream",
     "text": [
      " 61%|██████    | 306/505 [01:32<00:48,  4.08it/s]"
     ]
    }
   ],
   "source": [
    "from tqdm import tqdm\n",
    "X,y = [], []\n",
    "count = 0\n",
    "for i in tqdm(name_column):\n",
    "    df_slice = df[df[i] == 1]\n",
    "    df_slice.reset_index(inplace = True)\n",
    "    output = create_stack(df_slice,df_slice)\n",
    "    X.append(output[0])\n",
    "    y.append(output[1])\n",
    "    if(count == 10):\n",
    "        break\n",
    "    "
   ]
  },
  {
   "cell_type": "markdown",
   "id": "5e246f7b-e3fe-4206-8b95-805f54dddc1e",
   "metadata": {},
   "source": [
    "# Model Creation"
   ]
  },
  {
   "cell_type": "code",
   "execution_count": 75,
   "id": "316e61d0-a64e-49b9-9322-91fabfeb7f50",
   "metadata": {
    "tags": []
   },
   "outputs": [],
   "source": [
    "assert(len(X) == len(y))"
   ]
  },
  {
   "cell_type": "code",
   "execution_count": 80,
   "id": "2f412513-52ad-4ce7-a595-35178a6cdf3e",
   "metadata": {
    "tags": []
   },
   "outputs": [],
   "source": [
    "from sklearn.model_selection import train_test_split"
   ]
  },
  {
   "cell_type": "code",
   "execution_count": 81,
   "id": "2e9cca93-2ed4-4a3a-bc80-f0d4748c385f",
   "metadata": {
    "tags": []
   },
   "outputs": [],
   "source": [
    "X_train, X_test, y_train, y_test = train_test_split(X, y, test_size=0.33, random_state=42)"
   ]
  },
  {
   "cell_type": "code",
   "execution_count": 86,
   "id": "b08674db-8dc0-4c87-966f-bc8da8e5910e",
   "metadata": {
    "tags": []
   },
   "outputs": [
    {
     "ename": "ValueError",
     "evalue": "setting an array element with a sequence. The requested array has an inhomogeneous shape after 1 dimensions. The detected shape was (338,) + inhomogeneous part.",
     "output_type": "error",
     "traceback": [
      "\u001b[1;31m---------------------------------------------------------------------------\u001b[0m",
      "\u001b[1;31mValueError\u001b[0m                                Traceback (most recent call last)",
      "Cell \u001b[1;32mIn[86], line 1\u001b[0m\n\u001b[1;32m----> 1\u001b[0m X_train \u001b[38;5;241m=\u001b[39m np\u001b[38;5;241m.\u001b[39marray(X_train)\n\u001b[0;32m      2\u001b[0m X_test \u001b[38;5;241m=\u001b[39m np\u001b[38;5;241m.\u001b[39marray(X_test)\n\u001b[0;32m      3\u001b[0m y_train \u001b[38;5;241m=\u001b[39m np\u001b[38;5;241m.\u001b[39marray(y_train)\n",
      "\u001b[1;31mValueError\u001b[0m: setting an array element with a sequence. The requested array has an inhomogeneous shape after 1 dimensions. The detected shape was (338,) + inhomogeneous part."
     ]
    }
   ],
   "source": [
    "X_train = np.array(X_train)\n",
    "X_test = np.array(X_test)\n",
    "y_train = np.array(y_train)\n",
    "y_test = np.array(y_test)"
   ]
  },
  {
   "cell_type": "code",
   "execution_count": null,
   "id": "55b19308-bcc2-464a-a10c-318da2e59ddf",
   "metadata": {},
   "outputs": [],
   "source": [
    "from sklearn.svm import SVR\n",
    "from sklearn.preprocessing import MinMaxScaler\n",
    "from sklearn.metrics import mean_squared_error\n",
    "\n",
    "model = SVR(kernel='rbf', gamma=0.5, C=10, epsilon=0.05)"
   ]
  },
  {
   "cell_type": "markdown",
   "id": "9014f0ae-a253-400e-b680-62a31cd0cea3",
   "metadata": {},
   "source": [
    "# Training"
   ]
  },
  {
   "cell_type": "code",
   "execution_count": 84,
   "id": "7d029e83-b044-4cfb-b12c-aae53e9bf45a",
   "metadata": {
    "tags": []
   },
   "outputs": [
    {
     "ename": "AttributeError",
     "evalue": "'list' object has no attribute 'reshape'",
     "output_type": "error",
     "traceback": [
      "\u001b[1;31m---------------------------------------------------------------------------\u001b[0m",
      "\u001b[1;31mAttributeError\u001b[0m                            Traceback (most recent call last)",
      "Cell \u001b[1;32mIn[84], line 1\u001b[0m\n\u001b[1;32m----> 1\u001b[0m model\u001b[38;5;241m.\u001b[39mfit(X_train\u001b[38;5;241m.\u001b[39mreshape(X_train\u001b[38;5;241m.\u001b[39mshape[\u001b[38;5;241m0\u001b[39m], \u001b[38;5;241m-\u001b[39m\u001b[38;5;241m1\u001b[39m), y_train)\n",
      "\u001b[1;31mAttributeError\u001b[0m: 'list' object has no attribute 'reshape'"
     ]
    }
   ],
   "source": [
    "model.fit(X_train.reshape(X_train.shape[0], -1), y_train)"
   ]
  },
  {
   "cell_type": "code",
   "execution_count": null,
   "id": "cc5ff18f-0ff0-4c3c-92d8-e075593386a3",
   "metadata": {},
   "outputs": [],
   "source": []
  }
 ],
 "metadata": {
  "kernelspec": {
   "display_name": "Python 3 (ipykernel)",
   "language": "python",
   "name": "python3"
  },
  "language_info": {
   "codemirror_mode": {
    "name": "ipython",
    "version": 3
   },
   "file_extension": ".py",
   "mimetype": "text/x-python",
   "name": "python",
   "nbconvert_exporter": "python",
   "pygments_lexer": "ipython3",
   "version": "3.11.5"
  }
 },
 "nbformat": 4,
 "nbformat_minor": 5
}

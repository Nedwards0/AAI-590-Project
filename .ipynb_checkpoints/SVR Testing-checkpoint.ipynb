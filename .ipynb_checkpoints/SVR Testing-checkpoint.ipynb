{
 "cells": [
  {
   "cell_type": "code",
   "execution_count": 18,
   "id": "e685ee57-7340-4596-84d1-e86439ae683c",
   "metadata": {
    "tags": []
   },
   "outputs": [],
   "source": [
    "import sys\n",
    "import pandas as pd"
   ]
  },
  {
   "cell_type": "code",
   "execution_count": 19,
   "id": "2a4ce53d-9273-44a6-a42f-d4e6274f0102",
   "metadata": {
    "tags": []
   },
   "outputs": [],
   "source": [
    "df = pd.read_csv('Output.csv')"
   ]
  },
  {
   "cell_type": "code",
   "execution_count": 5,
   "id": "764f1a36-a584-4059-b748-ff355693ee2e",
   "metadata": {},
   "outputs": [],
   "source": [
    "arr = df.columns"
   ]
  },
  {
   "cell_type": "code",
   "execution_count": 7,
   "id": "ae139cbc-397f-4780-aec1-edb84234a500",
   "metadata": {
    "tags": []
   },
   "outputs": [],
   "source": [
    "name_column = []\n",
    "for i in df.columns:\n",
    "    if(\"Name\" in i):\n",
    "        name_column.append(i)"
   ]
  },
  {
   "cell_type": "code",
   "execution_count": 10,
   "id": "85a32555-2287-4909-b1fa-47155263df80",
   "metadata": {
    "tags": []
   },
   "outputs": [
    {
     "data": {
      "text/plain": [
       "['Name_A', 'Name_AAL', 'Name_AAP', 'Name_AAPL', 'Name_ABBV']"
      ]
     },
     "execution_count": 10,
     "metadata": {},
     "output_type": "execute_result"
    }
   ],
   "source": [
    "name_column[:5]"
   ]
  },
  {
   "cell_type": "markdown",
   "id": "f4f7f891-814b-4ff5-8b20-7485b64c21b0",
   "metadata": {},
   "source": [
    "# Stacking For time series"
   ]
  },
  {
   "cell_type": "code",
   "execution_count": 54,
   "id": "d8d1b51c-32f3-4322-92e8-5a8c6fb3c4b6",
   "metadata": {
    "tags": []
   },
   "outputs": [],
   "source": [
    "import numpy as np\n",
    "def create_stack(X, y, time_steps=30):\n",
    "    Xs, ys = [], []\n",
    "    for i in range(len(X) - time_steps):\n",
    "        v = X[i:i + time_steps]\n",
    "        Xs.append(v)\n",
    "        ys.append(y.iloc[i + time_steps])\n",
    "    return Xs, ys\n"
   ]
  },
  {
   "cell_type": "code",
   "execution_count": 55,
   "id": "5bea8996-d1d0-4a3f-85fa-78c6f581252b",
   "metadata": {
    "tags": []
   },
   "outputs": [],
   "source": [
    "df = df.astype(float)"
   ]
  },
  {
   "cell_type": "code",
   "execution_count": 60,
   "id": "448c66ab-0af0-4fec-a66e-70cf72a9802d",
   "metadata": {
    "tags": []
   },
   "outputs": [
    {
     "name": "stderr",
     "output_type": "stream",
     "text": [
      "100%|██████████| 505/505 [02:10<00:00,  3.87it/s]\n"
     ]
    }
   ],
   "source": [
    "from tqdm import tqdm\n",
    "X,y = [], []\n",
    "for i in tqdm(name_column):\n",
    "    df_slice = df[df[i] == 1]\n",
    "    df_slice.reset_index(inplace = True)\n",
    "    output = create_stack(df_slice,df_slice)\n",
    "    X.append(output[0])\n",
    "    y.append(output[1])\n",
    "    "
   ]
  },
  {
   "cell_type": "markdown",
   "id": "5e246f7b-e3fe-4206-8b95-805f54dddc1e",
   "metadata": {},
   "source": [
    "# Model Creation"
   ]
  },
  {
   "cell_type": "code",
   "execution_count": 63,
   "id": "316e61d0-a64e-49b9-9322-91fabfeb7f50",
   "metadata": {
    "tags": []
   },
   "outputs": [],
   "source": [
    "assert(len(X) == len(y))"
   ]
  },
  {
   "cell_type": "code",
   "execution_count": 64,
   "id": "2f412513-52ad-4ce7-a595-35178a6cdf3e",
   "metadata": {
    "tags": []
   },
   "outputs": [],
   "source": [
    "from sklearn.model_selection import train_test_split"
   ]
  },
  {
   "cell_type": "code",
   "execution_count": 65,
   "id": "2e9cca93-2ed4-4a3a-bc80-f0d4748c385f",
   "metadata": {
    "tags": []
   },
   "outputs": [],
   "source": [
    "X_train, X_test, y_train, y_test = train_test_split(X, y, test_size=0.33, random_state=42)"
   ]
  },
  {
   "cell_type": "code",
   "execution_count": null,
   "id": "55b19308-bcc2-464a-a10c-318da2e59ddf",
   "metadata": {},
   "outputs": [],
   "source": []
  }
 ],
 "metadata": {
  "kernelspec": {
   "display_name": "Python 3 (ipykernel)",
   "language": "python",
   "name": "python3"
  },
  "language_info": {
   "codemirror_mode": {
    "name": "ipython",
    "version": 3
   },
   "file_extension": ".py",
   "mimetype": "text/x-python",
   "name": "python",
   "nbconvert_exporter": "python",
   "pygments_lexer": "ipython3",
   "version": "3.11.5"
  }
 },
 "nbformat": 4,
 "nbformat_minor": 5
}

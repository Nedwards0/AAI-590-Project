{
 "cells": [
  {
   "cell_type": "code",
   "execution_count": 1,
   "id": "af7e6242-3744-4932-92d1-2d798004a751",
   "metadata": {
    "tags": []
   },
   "outputs": [],
   "source": [
    "import sys"
   ]
  },
  {
   "cell_type": "code",
   "execution_count": 7,
   "id": "ae4caac0-304f-4766-ab87-3291134d9ed8",
   "metadata": {
    "tags": []
   },
   "outputs": [
    {
     "data": {
      "text/plain": [
       "['AAL_data.csv',\n",
       " 'AAPL_data.csv',\n",
       " 'AAP_data.csv',\n",
       " 'ABBV_data.csv',\n",
       " 'ABC_data.csv']"
      ]
     },
     "execution_count": 7,
     "metadata": {},
     "output_type": "execute_result"
    }
   ],
   "source": [
    "import os\n",
    "csv = [f for f in files if os.path.isfile(\"dataset\"+'/'+f)]\n",
    "csv[:5]"
   ]
  },
  {
   "cell_type": "code",
   "execution_count": null,
   "id": "7b24c453-4409-4581-b997-d9580b7d8c6f",
   "metadata": {},
   "outputs": [],
   "source": []
  }
 ],
 "metadata": {
  "kernelspec": {
   "display_name": "Python 3 (ipykernel)",
   "language": "python",
   "name": "python3"
  },
  "language_info": {
   "codemirror_mode": {
    "name": "ipython",
    "version": 3
   },
   "file_extension": ".py",
   "mimetype": "text/x-python",
   "name": "python",
   "nbconvert_exporter": "python",
   "pygments_lexer": "ipython3",
   "version": "3.11.5"
  }
 },
 "nbformat": 4,
 "nbformat_minor": 5
}
